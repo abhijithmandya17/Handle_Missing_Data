{
 "cells": [
  {
   "cell_type": "code",
   "execution_count": 36,
   "metadata": {
    "collapsed": true
   },
   "outputs": [],
   "source": [
    "import pandas as pd\n",
    "import numpy as np\n",
    "from sklearn.ensemble import RandomForestRegressor\n",
    "from sklearn.linear_model import LinearRegression\n",
    "from sklearn.model_selection import train_test_split\n",
    "from sklearn.linear_model import LogisticRegression\n",
    "from sklearn.metrics import accuracy_score\n",
    "from sklearn.ensemble import RandomForestClassifier\n",
    "import random\n",
    "import statistics"
   ]
  },
  {
   "cell_type": "code",
   "execution_count": 37,
   "metadata": {
    "collapsed": true
   },
   "outputs": [],
   "source": [
    "# Add path of your data on your local drive\n",
    "\n",
    "df = pd.read_csv(\"train.csv\")"
   ]
  },
  {
   "cell_type": "code",
   "execution_count": 38,
   "metadata": {
    "collapsed": true
   },
   "outputs": [],
   "source": [
    "# Clean input dataframe\n",
    "\n",
    "df['pickup_datetime'] = pd.to_datetime(df['pickup_datetime'], format = '%Y-%m-%d %H:%M:%S')\n",
    "df['dropoff_datetime'] = pd.to_datetime(df['dropoff_datetime'], format = '%Y-%m-%d %H:%M:%S')\n",
    "\n",
    "# Create minute column\n",
    "df['pickup_minute'] = df['pickup_datetime'].dt.minute\n",
    "df['dropoff_minutes'] = df['dropoff_datetime'].dt.minute\n",
    "\n",
    "# Create hour column\n",
    "df['pickup_hour'] = df['pickup_datetime'].dt.hour\n",
    "df['dropoff_hour'] = df['dropoff_datetime'].dt.hour\n",
    "\n",
    "# Create day of week column\n",
    "df['pickup_dow'] = df['pickup_datetime'].dt.weekday\n",
    "df['dropoff_dow'] = df['dropoff_datetime'].dt.weekday\n",
    "\n",
    "# Create day of month column\n",
    "df['pickup_dom'] = df['pickup_datetime'].dt.day\n",
    "df['dropoff_dom'] = df['dropoff_datetime'].dt.day\n",
    "\n",
    "# Create month column\n",
    "df['pickup_month'] = df['pickup_datetime'].dt.month\n",
    "df['dropoff_month'] = df['dropoff_datetime'].dt.month\n",
    "\n",
    "# Map 'Y' and 'N' in 'store_and_fwd_flag' as 1 and 0\n",
    "store_and_fwd_map = {'Y':1,'N':0}\n",
    "df = df.copy()\n",
    "df['store_and_fwd_flag'] = df['store_and_fwd_flag'].map(store_and_fwd_map)"
   ]
  },
  {
   "cell_type": "code",
   "execution_count": 39,
   "metadata": {
    "collapsed": true
   },
   "outputs": [],
   "source": [
    "# Create missing data\n",
    "random.seed(123)\n",
    "\n",
    "# Insert nan values in pickup_hour\n",
    "nan_pickup_hours = df['pickup_hour'].sample(round(df.shape[0]/41)).index\n",
    "df.loc[nan_pickup_hours,'pickup_hour']=np.nan\n",
    "\n",
    "# Insert nan values in dropoff_longitude\n",
    "nan_dropoff_longitude = df['dropoff_longitude'].sample(round(df.shape[0]/37)).index\n",
    "df.loc[nan_dropoff_longitude,'dropoff_longitude']=np.nan"
   ]
  },
  {
   "cell_type": "code",
   "execution_count": 49,
   "metadata": {
    "collapsed": true
   },
   "outputs": [],
   "source": [
    "# Approach 1 - Delete rows with missing values\n",
    "# Pass only the dataframe as argument\n",
    "\n",
    "def approach1_rem_msg(messy_df):\n",
    "    clean_df = messy_df.dropna()\n",
    "    rows_dropped = 1 - clean_df.shape[0]/messy_df.shape[0]\n",
    "    return clean_df, rows_dropped\n",
    "\n",
    "#------------------------------------------------------------------------------------------------------------------------\n",
    "\n",
    "# Approach 2 - Impute missing values\n",
    "# The following function imputes the missing values with mean/median/mode according to arguments passed\n",
    "# User also has to pass as list the names of columns which have missing values \n",
    "# Call function  - approach2_impute_metric(<df>,<\"mean\">/<\"median\">/<\"mode\">,[<'missingcolname1'>,<'missingcolname2'])\n",
    "\n",
    "def approach2_impute_metric(messy_df, metric, colnames):\n",
    "    clean_df = messy_df.copy()    \n",
    "    missing_list = []\n",
    "    \n",
    "    if metric==\"mean\":\n",
    "        for col in colnames:\n",
    "            imputenum = messy_df[col].mean()\n",
    "            missing_count = messy_df[col].isnull().sum()\n",
    "            missing_list.append([imputenum]*missing_count)\n",
    "            clean_df[col] = messy_df[col].fillna(imputenum)            \n",
    "\n",
    "    if metric==\"median\":\n",
    "        for col in colnames:\n",
    "            imputenum = messy_df[col].median()\n",
    "            missing_count = messy_df[col].isnull().sum()  \n",
    "            missing_list.append([imputenum]*missing_count)\n",
    "            clean_df[col] = messy_df[col].fillna(imputenum)\n",
    "    \n",
    "    if metric==\"mode\":\n",
    "        for col in colnames:\n",
    "            imputenum = messy_df[col].mode()\n",
    "            missing_count = messy_df[col].isnull().sum()\n",
    "            missing_pos = clean_df[col].isnull()\n",
    "            clean_df.loc[clean_df[col].isnull(),col] = np.random.choice(imputenum, missing_count)\n",
    "            missing_list.append(clean_df.loc[missing_pos,col].tolist())    \n",
    "        \n",
    "    return clean_df, missing_list\n",
    " \n",
    "#-------------------------------------------------------------------------------------------------------------------------\n",
    "\n",
    "# Approach 3 - Predict missing values\n",
    "    \n",
    "def approach3_predict_msg(messy_df, metric, colnames):\n",
    "    \n",
    "    X_df = messy_df.drop(colnames, axis = 1)\n",
    "    Y_df = messy_df[colnames]\n",
    "    Y_pred_df = pd.DataFrame(columns=colnames)\n",
    "    Y_missing_df = pd.DataFrame(columns=colnames)\n",
    "    missing_list = []\n",
    "    \n",
    "    for col in messy_df[colnames]:\n",
    "    \n",
    "        missing_count = messy_df[col].isnull().sum()\n",
    "    \n",
    "        messy_df_train = messy_df[~messy_df[col].isnull()]\n",
    "        msg_cols_train_df = messy_df_train[col]\n",
    "        messy_df_train = messy_df_train.drop(colnames, axis = 1)\n",
    "\n",
    "        messy_df_test = messy_df[messy_df[col].isnull()]\n",
    "        msg_cols_test_df = messy_df_test[col]\n",
    "        messy_df_test = messy_df_test.drop(colnames,axis = 1)\n",
    "\n",
    "        Y_train = msg_cols_train_df.copy()\n",
    "        X_train = messy_df_train.copy()\n",
    "        \n",
    "        if metric == \"Linear Regression\":\n",
    "            model = LinearRegression()\n",
    "            model.fit(X_train,Y_train)\n",
    "            print(\"R-squared value is: \" + str(model.score(X_train, Y_train)))\n",
    "            \n",
    "        elif metric == \"Random Forests\":\n",
    "            model = RandomForestRegressor(n_estimators = 100 , oob_score = True)\n",
    "            model.fit(X_train,Y_train) \n",
    "#            importances = model.feature_importances_\n",
    "#             for name, importance in zip(X_train.columns, model.feature_importances_):\n",
    "#                 print(name, \"=\", importance)\n",
    "              \n",
    "        X_test = messy_df_test.copy()\n",
    "        Y_test = model.predict(X_test)\n",
    "        \n",
    "        Y_test_integer = pd.to_numeric(pd.Series(Y_test),downcast='integer')\n",
    "        Y_complete = Y_train.append(Y_test_integer)\n",
    "        Y_complete = Y_complete.reset_index(drop = True)\n",
    "        \n",
    "        missing_list.append(Y_test.tolist())\n",
    "        \n",
    "        Y_pred_df[col] = Y_complete\n",
    "        Y_pred_df = Y_pred_df.reset_index(drop = True)\n",
    "   \n",
    "    clean_df = X_df.join(Y_pred_df)\n",
    "    \n",
    "    return clean_df,missing_list"
   ]
  },
  {
   "cell_type": "code",
   "execution_count": 41,
   "metadata": {
    "collapsed": true
   },
   "outputs": [],
   "source": [
    "def clean_performance_measure_df(df2):\n",
    "    trip_duration_cutoff_mins = 20\n",
    "    df2['trip_duration_encoded'] = 0\n",
    "    df2.loc[df2['trip_duration']>=trip_duration_cutoff_mins*60,'trip_duration_encoded'] = 1\n",
    "    df2.loc[df2['trip_duration']<trip_duration_cutoff_mins*60,'trip_duration_encoded'] = 0\n",
    "    df2 = df2.drop(['dropoff_minutes','dropoff_hour',\n",
    "                    'dropoff_dow','dropoff_dom','dropoff_month','trip_duration','dropoff_longitude','dropoff_latitude'], axis = 1)\n",
    "    df2.dropna(inplace=True)\n",
    "    return(df2)"
   ]
  },
  {
   "cell_type": "code",
   "execution_count": 52,
   "metadata": {
    "collapsed": true
   },
   "outputs": [],
   "source": [
    "def accuracy_determination(df2,algo, Y_col):\n",
    "    df = clean_performance_measure_df(df2)\n",
    "    y = df[Y_col]\n",
    "    X = df.drop(Y_col, axis = 1)\n",
    "    X_train, X_test, y_train, y_test = train_test_split(X, y, test_size=0.4, random_state=42)\n",
    "    if algo == \"Logistic Regression\":\n",
    "        model = LogisticRegression()\n",
    "        model.fit(X_train,y_train)\n",
    "    elif algo == \"Random Forests\":\n",
    "        model = RandomForestClassifier(n_estimators = 100 , oob_score = True)\n",
    "        model.fit(X_train,y_train)\n",
    "#        importances = model.feature_importances_\n",
    "        for name, importance in zip(X_train.columns, model.feature_importances_):\n",
    "            print(name, \"=\", importance)\n",
    "\n",
    "    y_pred = model.predict(X_test)\n",
    "    accuracy = accuracy_score(y_test, y_pred)\n",
    "    return accuracy"
   ]
  },
  {
   "cell_type": "code",
   "execution_count": 53,
   "metadata": {
    "scrolled": false
   },
   "outputs": [
    {
     "name": "stdout",
     "output_type": "stream",
     "text": [
      "vendor_id = 0.0242232103128\n",
      "passenger_count = 0.0357587424959\n",
      "pickup_longitude = 0.27362432959\n",
      "pickup_latitude = 0.206330815112\n",
      "store_and_fwd_flag = 0.00360998775965\n",
      "pickup_minute = 0.135168520275\n",
      "pickup_dow = 0.0572013279434\n",
      "pickup_dom = 0.108257625871\n",
      "pickup_month = 0.0496216616327\n",
      "pickup_hour = 0.106203779008\n"
     ]
    }
   ],
   "source": [
    "# # Test the approaches to missing data\n",
    "\n",
    "# df_test = df.drop(['id','pickup_datetime','dropoff_datetime'], axis = 1)\n",
    "# df_test = df_test.head(10000)\n",
    "\n",
    "# # Call function to clean missing data\n",
    "\n",
    "# # Approach 1 - delete rows containing missing values \n",
    "# test_pred1, rows_dropped = approach1_rem_msg(df_test)\n",
    "\n",
    "# # Get performance measure of Approach 1\n",
    "# test_pred1_logistic_accuracy = accuracy_determination(test_pred1,\"Logistic Regression\",'trip_duration_encoded')\n",
    "# test_pred1_rf_accuracy = accuracy_determination(test_pred1,\"Random Forests\",'trip_duration_encoded')\n",
    "\n",
    "# #----------------------------------------------------------------------------------------------------------------------------\n",
    "\n",
    "# # Approach 2 - Impute missing values\n",
    "\n",
    "# #Part a - Impute with mean\n",
    "# test_pred2a, imputed_values2a = approach2_impute_metric(df_test,\"mean\",['dropoff_longitude','pickup_hour'])\n",
    "# # Get performance measure of Approach 2a\n",
    "# test_pred2a_logistic_accuracy = accuracy_determination(test_pred2a,\"Logistic Regression\",'trip_duration_encoded')\n",
    "# test_pred2a_rf_accuracy = accuracy_determination(test_pred2a,\"Random Forests\",'trip_duration_encoded')\n",
    "\n",
    "# #Part b - Impute with median\n",
    "# test_pred2b, imputed_values2b = approach2_impute_metric(df_test,\"median\",['dropoff_longitude','pickup_hour'])\n",
    "# # Get performance measure of Approach 2b\n",
    "# test_pred2b_logistic_accuracy = accuracy_determination(test_pred2b,\"Logistic Regression\",'trip_duration_encoded')\n",
    "# test_pred2b_rf_accuracy = accuracy_determination(test_pred2b,\"Random Forests\",'trip_duration_encoded')\n",
    "\n",
    "# #Part c - Impute with median\n",
    "# test_pred2c, imputed_values2c = approach2_impute_metric(df_test,\"mode\",['dropoff_longitude','pickup_hour'])\n",
    "# # Get performance measure of Approach 2c\n",
    "# test_pred2c_logistic_accuracy = accuracy_determination(test_pred2c,\"Logistic Regression\",'trip_duration_encoded')\n",
    "# test_pred2c_rf_accuracy = accuracy_determination(test_pred2c,\"Random Forests\",'trip_duration_encoded')\n",
    "\n",
    "#---------------------------------------------------------------------------------------------------------------------------\n",
    "\n",
    "# # Approach 3 - Predict missing values\n",
    "\n",
    "# #Part a - Predict using linear regression\n",
    "# test_pred3a, predicted_values3a = approach3_predict_msg(df_test,\"Linear Regression\",['dropoff_longitude','pickup_hour'])\n",
    "# test_pred3_logistic_accuracy = accuracy_determination(test_pred3a,\"Logistic Regression\",'trip_duration_encoded')\n",
    "# test_pred3a_rf_accuracy = accuracy_determination(test_pred3a,\"Random Forests\",'trip_duration_encoded')\n",
    "\n",
    "# Part b - Predict using Random Forests\n",
    "test_pred3b, predicted_values3b = approach3_predict_msg(df_test,\"Random Forests\",['dropoff_longitude','pickup_hour'])\n",
    "test_pred3b_logistic_accuracy = accuracy_determination(test_pred3b,\"Logistic Regression\",'trip_duration_encoded')\n",
    "test_pred3b_rf_accuracy = accuracy_determination(test_pred3b,\"Random Forests\",'trip_duration_encoded')"
   ]
  },
  {
   "cell_type": "code",
   "execution_count": 44,
   "metadata": {},
   "outputs": [
    {
     "name": "stdout",
     "output_type": "stream",
     "text": [
      "0.805078021687 0.830468130124\n",
      "0.80125 0.82525\n",
      "0.80125 0.824\n",
      "0.80125 0.82625\n",
      "0.80125 0.827\n",
      "0.80125 0.8245\n"
     ]
    }
   ],
   "source": [
    "print(test_pred1_logistic_accuracy,test_pred1_rf_accuracy)\n",
    "print(test_pred2a_logistic_accuracy,test_pred2a_rf_accuracy)\n",
    "print(test_pred2b_logistic_accuracy,test_pred2b_rf_accuracy)\n",
    "print(test_pred2c_logistic_accuracy,test_pred2c_rf_accuracy)\n",
    "print(test_pred3a_logistic_accuracy,test_pred3a_rf_accuracy)\n",
    "print(test_pred3b_logistic_accuracy,test_pred3b_rf_accuracy)"
   ]
  },
  {
   "cell_type": "code",
   "execution_count": null,
   "metadata": {
    "collapsed": true
   },
   "outputs": [],
   "source": [
    "# Compare missing value replacement approaches "
   ]
  },
  {
   "cell_type": "code",
   "execution_count": null,
   "metadata": {
    "collapsed": true
   },
   "outputs": [],
   "source": [
    "from ipywidgets import *\n",
    "from IPython.display import display\n",
    "from IPython.display import clear_output\n",
    "\n",
    "# make 4 buttons\n",
    "button1 = Button(description=\"Delete rows with missing values\",\n",
    "           layout=Layout(width='50%', height='50px'),)\n",
    "button2 = Button(description=\"Impute metric: Mean\",\n",
    "                layout=Layout(width='50%', height='50px'))\n",
    "button3 = Button(description=\"Impute metric: Median\",\n",
    "                layout=Layout(width='50%', height='50px'))\n",
    "button4 = Button(description=\"Impute metric: Mode\",\n",
    "                layout=Layout(width='50%', height='50px'))\n",
    "button5 = Button(description=\"Predict values: Linear Regression\",\n",
    "                layout=Layout(width='50%', height='50px'))\n",
    "button6 = Button(description=\"Predict values: Random Forests\",\n",
    "                layout=Layout(width='50%', height='50px'))\n",
    "display(button1, button2, button3, button4, button5, button6)\n",
    "\n",
    "# define button calls\n",
    "\n",
    "def button1Clicked(b):\n",
    "    clear_output()\n",
    "    msno.matrix(test_pred1)\n",
    "    \n",
    "def button2Clicked(b):\n",
    "    clear_output()\n",
    "    display(test_pred2)\n",
    "    \n",
    "def button3Clicked(b):\n",
    "    clear_output()\n",
    "    display(test_pred3)\n",
    "        \n",
    "def button4Clicked(b):\n",
    "    clear_output()\n",
    "    display(test_pred4)\n",
    "    \n",
    "# specify which functions to be called when buttons are clicked\n",
    "button1.on_click(button1Clicked)\n",
    "button2.on_click(button2Clicked)\n",
    "button3.on_click(button3Clicked)\n",
    "button4.on_click(button4Clicked)"
   ]
  },
  {
   "cell_type": "code",
   "execution_count": null,
   "metadata": {
    "collapsed": true
   },
   "outputs": [],
   "source": [
    "import matplotlib.pyplot as plt\n",
    "import numpy as np\n",
    "\n",
    "plt.hist(test_pred2a['pickup_hour'])\n",
    "plt.show()\n",
    "\n",
    "plt.hist(test_pred2b['pickup_hour'])\n",
    "plt.show()\n",
    "\n",
    "plt.hist(test_pred2c['pickup_hour'])\n",
    "plt.show()"
   ]
  },
  {
   "cell_type": "code",
   "execution_count": null,
   "metadata": {
    "collapsed": true
   },
   "outputs": [],
   "source": [
    "# Test code below - Do not run 6,7,10,16,17"
   ]
  },
  {
   "cell_type": "code",
   "execution_count": null,
   "metadata": {
    "collapsed": true
   },
   "outputs": [],
   "source": []
  },
  {
   "cell_type": "code",
   "execution_count": null,
   "metadata": {
    "collapsed": true,
    "scrolled": true
   },
   "outputs": [],
   "source": [
    "from sklearn.ensemble import RandomForestRegressor\n",
    "model = RandomForestRegressor(n_estimators = 10 , oob_score = True)\n",
    "model.fit(X,Y)"
   ]
  },
  {
   "cell_type": "code",
   "execution_count": null,
   "metadata": {
    "collapsed": true
   },
   "outputs": [],
   "source": [
    "model_features = pd.Series(model.feature_importances_,X.columns)\n",
    "model_features.sort_values\n",
    "model_features.plot(kind=\"barh\",figsize=(7,6))"
   ]
  },
  {
   "cell_type": "code",
   "execution_count": null,
   "metadata": {
    "collapsed": true
   },
   "outputs": [],
   "source": [
    "model.feature_importances_"
   ]
  }
 ],
 "metadata": {
  "kernelspec": {
   "display_name": "Python 3",
   "language": "python",
   "name": "python3"
  },
  "language_info": {
   "codemirror_mode": {
    "name": "ipython",
    "version": 3
   },
   "file_extension": ".py",
   "mimetype": "text/x-python",
   "name": "python",
   "nbconvert_exporter": "python",
   "pygments_lexer": "ipython3",
   "version": "3.6.1"
  }
 },
 "nbformat": 4,
 "nbformat_minor": 2
}
