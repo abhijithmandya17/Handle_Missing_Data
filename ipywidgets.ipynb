{
 "cells": [
  {
   "cell_type": "code",
   "execution_count": null,
   "metadata": {},
   "outputs": [],
   "source": [
    "from ipywidgets import *\n",
    "from IPython.display import display\n",
    "\n",
    "# make 3 buttons\n",
    "button1 = Button(description=\"Delete rows with missing\")\n",
    "display(button1)\n",
    "button2 = Button(description=\"Interpolate values\")\n",
    "display(button2)\n",
    "button3 = Button(description=\"Machine learning\")\n",
    "display(button3)\n",
    "\n",
    "# define some functions\n",
    "def button1_clicked(b):\n",
    "    print(\"1\")\n",
    "\n",
    "def button2_clicked(b):\n",
    "    print(\"2\")\n",
    "\n",
    "def button3_clicked(b):\n",
    "    print(\"3\")\n",
    "\n",
    "# specify functions to be called when buttons are clicked\n",
    "button1.on_click(button1_clicked)\n",
    "button2.on_click(button2_clicked)\n",
    "button3.on_click(button3_clicked)"
   ]
  },
  {
   "cell_type": "code",
   "execution_count": null,
   "metadata": {
    "collapsed": true
   },
   "outputs": [],
   "source": [
    "\n",
    "# if we want the options to disappear we can name the widget and use close()\n",
    "radio = RadioButtons(options=['delete missing', 'interpolate values', 'machine learning stuff'],\n",
    "    description='Deal with missing values:',\n",
    "    disabled=False)\n",
    "display(radio)"
   ]
  },
  {
   "cell_type": "code",
   "execution_count": null,
   "metadata": {
    "collapsed": true
   },
   "outputs": [],
   "source": [
    "radio.close() #removes radio buttons"
   ]
  }
 ],
 "metadata": {
  "kernelspec": {
   "display_name": "Python 3",
   "language": "python",
   "name": "python3"
  },
  "language_info": {
   "codemirror_mode": {
    "name": "ipython",
    "version": 3
   },
   "file_extension": ".py",
   "mimetype": "text/x-python",
   "name": "python",
   "nbconvert_exporter": "python",
   "pygments_lexer": "ipython3",
   "version": "3.6.1"
  }
 },
 "nbformat": 4,
 "nbformat_minor": 2
}
