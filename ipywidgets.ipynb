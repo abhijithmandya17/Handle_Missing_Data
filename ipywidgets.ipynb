{
 "cells": [
  {
   "cell_type": "code",
   "execution_count": 4,
   "metadata": {},
   "outputs": [
    {
     "data": {
      "application/vnd.jupyter.widget-view+json": {
       "model_id": "b60b04d25c794b78ac6d1423ccca0814"
      }
     },
     "metadata": {},
     "output_type": "display_data"
    },
    {
     "data": {
      "application/vnd.jupyter.widget-view+json": {
       "model_id": "5a4e0a45089540b395f0a914a9f7e3c4"
      }
     },
     "metadata": {},
     "output_type": "display_data"
    },
    {
     "data": {
      "application/vnd.jupyter.widget-view+json": {
       "model_id": "6fe231b5902c4fa2b7e7779e7cc0960e"
      }
     },
     "metadata": {},
     "output_type": "display_data"
    },
    {
     "data": {
      "application/vnd.jupyter.widget-view+json": {
       "model_id": "90691300593b493689f9738dda16da66"
      }
     },
     "metadata": {},
     "output_type": "display_data"
    },
    {
     "name": "stdout",
     "output_type": "stream",
     "text": [
      "1\n",
      "2\n"
     ]
    }
   ],
   "source": [
    "from ipywidgets import *\n",
    "from IPython.display import display\n",
    "\n",
    "def button1Clicked(b):\n",
    "    print(\"1\")\n",
    "    \n",
    "def button2Clicked(b):\n",
    "    print(\"2\")\n",
    "    \n",
    "\n",
    "# make 3 buttons\n",
    "button1 = Button(description=\"Delete rows with missing values\",\n",
    "           layout=Layout(width='50%', height='50px'))\n",
    "button2 = Button(description=\"Impute metric: Mean\",\n",
    "                layout=Layout(width='50%', height='50px'))\n",
    "button3 = Button(description=\"Impute metric: Median\",\n",
    "                layout=Layout(width='50%', height='50px'))\n",
    "button4 = Button(description=\"Impute metric: Mode\",\n",
    "                layout=Layout(width='50%', height='50px'))\n",
    "display(button1, button2, button3, button4)\n",
    "\n",
    "# specify which functions to be called when buttons are clicked\n",
    "button1.on_click(button1Clicked)\n",
    "button2.on_click(button2Clicked)\n",
    "button3.on_click(button1Clicked)\n",
    "button4.on_click(button2Clicked)"
   ]
  },
  {
   "cell_type": "code",
   "execution_count": null,
   "metadata": {
    "collapsed": true
   },
   "outputs": [],
   "source": [
    "\n",
    "# if we want the options to disappear we can name the widget and use close()\n",
    "radio = RadioButtons(options=['delete missing', 'interpolate values', 'machine learning stuff'],\n",
    "    description='Deal with missing values:',\n",
    "    disabled=False)\n",
    "display(radio)"
   ]
  },
  {
   "cell_type": "code",
   "execution_count": null,
   "metadata": {
    "collapsed": true
   },
   "outputs": [],
   "source": [
    "radio.close() #removes radio buttons"
   ]
  },
  {
   "cell_type": "code",
   "execution_count": null,
   "metadata": {
    "collapsed": true
   },
   "outputs": [],
   "source": []
  }
 ],
 "metadata": {
  "kernelspec": {
   "display_name": "Python 3",
   "language": "python",
   "name": "python3"
  },
  "language_info": {
   "codemirror_mode": {
    "name": "ipython",
    "version": 3
   },
   "file_extension": ".py",
   "mimetype": "text/x-python",
   "name": "python",
   "nbconvert_exporter": "python",
   "pygments_lexer": "ipython3",
   "version": "3.6.1"
  }
 },
 "nbformat": 4,
 "nbformat_minor": 2
}
