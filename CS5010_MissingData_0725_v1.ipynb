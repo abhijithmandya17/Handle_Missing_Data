{
 "cells": [
  {
   "cell_type": "code",
   "execution_count": 28,
   "metadata": {
    "collapsed": true
   },
   "outputs": [],
   "source": [
    "import pandas as pd\n",
    "import numpy as np\n",
    "from sklearn.ensemble import RandomForestRegressor\n",
    "import random"
   ]
  },
  {
   "cell_type": "code",
   "execution_count": 29,
   "metadata": {
    "collapsed": true
   },
   "outputs": [],
   "source": [
    "# Add path of your data on your local drive\n",
    "\n",
    "df = pd.read_csv(\"/Users/sally/Data MSDS/CS 5010 Programming and Systems for Data Science/CS-5010-Missing-Data/train.csv\")"
   ]
  },
  {
   "cell_type": "code",
   "execution_count": 30,
   "metadata": {},
   "outputs": [],
   "source": [
    "# Clean input dataframe\n",
    "\n",
    "df['pickup_datetime'] = pd.to_datetime(df['pickup_datetime'], format = '%Y-%m-%d %H:%M:%S')\n",
    "df['dropoff_datetime'] = pd.to_datetime(df['dropoff_datetime'], format = '%Y-%m-%d %H:%M:%S')\n",
    "\n",
    "# Create minute column\n",
    "df['pickup_minute'] = df['pickup_datetime'].dt.minute\n",
    "df['dropoff_minutes'] = df['dropoff_datetime'].dt.minute\n",
    "\n",
    "# Create hour column\n",
    "df['pickup_hour'] = df['pickup_datetime'].dt.hour\n",
    "df['dropoff_hour'] = df['dropoff_datetime'].dt.hour\n",
    "\n",
    "# Create day of week column\n",
    "df['pickup_dow'] = df['pickup_datetime'].dt.weekday\n",
    "df['dropoff_dow'] = df['dropoff_datetime'].dt.weekday\n",
    "\n",
    "# Create day of month column\n",
    "df['pickup_dom'] = df['pickup_datetime'].dt.day\n",
    "df['dropoff_dom'] = df['dropoff_datetime'].dt.day\n",
    "\n",
    "# Create month column\n",
    "df['pickup_month'] = df['pickup_datetime'].dt.month\n",
    "df['dropoff_month'] = df['dropoff_datetime'].dt.month\n",
    "\n",
    "# Map 'Y' and 'N' in 'store_and_fwd_flag' as 1 and 0\n",
    "store_and_fwd_map = {'Y':1,'N':0}\n",
    "df = df.copy()\n",
    "df['store_and_fwd_flag'] = df['store_and_fwd_flag'].map(store_and_fwd_map)"
   ]
  },
  {
   "cell_type": "code",
   "execution_count": 31,
   "metadata": {
    "collapsed": true
   },
   "outputs": [],
   "source": [
    "# Create missing data\n",
    "\n",
    "random.seed(123)\n",
    "\n",
    "# Insert nan values in pickup_hour\n",
    "nan_pickup_hours = df['pickup_hour'].sample(round(df.shape[0]/10)).index\n",
    "df.loc[nan_pickup_hours,'pickup_hour']=np.nan\n",
    "\n",
    "# Insert nan values in dropoff_longitude\n",
    "nan_dropoff_longitude = df['dropoff_longitude'].sample(round(df.shape[0]/10)).index\n",
    "df.loc[nan_dropoff_longitude,'dropoff_longitude']=np.nan"
   ]
  },
  {
   "cell_type": "code",
   "execution_count": 32,
   "metadata": {
    "collapsed": true
   },
   "outputs": [],
   "source": [
    "# Approach 1 - Delete rows with missing values\n",
    "# Pass only the dataframe as argument\n",
    "\n",
    "def approach1_rem_msg(messy_df):\n",
    "    clean_df = messy_df.dropna()\n",
    "    return clean_df\n",
    "\n",
    "#------------------------------------------------------------------------------------------------------------------------\n",
    "\n",
    "# Approach 2 - Impute missing values\n",
    "# The following function imputes the missing values with mean/median/mode according to arguments passed\n",
    "# User also has to pass as list the names of columns which have missing values \n",
    "# Call function  - approach2_impute_metric(<df>,<\"mean\">/<\"median\">/<\"mode\">,[<'missingcolname1'>,<'missingcolname2'])\n",
    "\n",
    "def approach2_impute_metric(messy_df, metric, colnames):\n",
    "    clean_df = messy_df.copy()\n",
    "    if metric==\"mean\":\n",
    "        for col in colnames:\n",
    "            imputenum = messy_df[col].mean()\n",
    "            clean_df[col] = messy_df[col].fillna(imputenum)\n",
    "            \n",
    "    if metric==\"median\":\n",
    "        for col in colnames:\n",
    "            imputenum = messy_df[col].median()\n",
    "            clean_df[col] = messy_df[col].fillna(imputenum)\n",
    "            \n",
    "    if metric==\"mode\":\n",
    "        for col in colnames:\n",
    "            imputenum = messy_df[col].mode()\n",
    "            clean_df[col] = messy_df[col].fillna(imputenum)\n",
    "            \n",
    "    return clean_df\n",
    " \n",
    "#-------------------------------------------------------------------------------------------------------------------------\n",
    "\n",
    "# Approach 3 - Predict missing values\n",
    "# This is work in progress\n",
    "    \n",
    "def approach3_predict_msg(messy_df, metric, colnames):\n",
    "    \n",
    "    for col in messy_df[colnames]:\n",
    "    \n",
    "        messy_df_train = messy_df[~messy_df[col].isnull()]\n",
    "        msg_cols_train_df = messy_df_train[col]\n",
    "        messy_df_train = messy_df_train.drop(colnames, axis = 1)\n",
    "\n",
    "        messy_df_test = messy_df[messy_df[col].isnull()]\n",
    "        msg_cols_test_df = messy_df_test[col]\n",
    "        messy_df_test = messy_df_test.drop(colnames,axis = 1)\n",
    "\n",
    "#        print(\"train_X\",messy_df_train.head(),\"\\n\\n\",\"train_Y\",msg_cols_train_df.head(),\"\\n\\n\",\"test_X\",messy_df_test.head(),\"\\n\\n\",\"test_Y\",msg_cols_test_df.head())\n",
    "\n",
    "        Y_train = msg_cols_train_df.copy()\n",
    "        X_train = messy_df_train.copy()\n",
    "        model = RandomForestRegressor(n_estimators = 10 , oob_score = True)\n",
    "        model.fit(X_train,Y_train) \n",
    "\n",
    "        X_test = messy_df_train.copy()\n",
    "\n",
    "        Y_test = model.predict(X_test)\n",
    "        \n",
    "        X_train.append(X_test)     \n",
    "        \n",
    "    return pred"
   ]
  },
  {
   "cell_type": "code",
   "execution_count": 33,
   "metadata": {
    "collapsed": true
   },
   "outputs": [],
   "source": [
    "# Test the approaches to missing data\n",
    "\n",
    "df_test = df.drop(['id','pickup_datetime','dropoff_datetime','trip_duration'], axis = 1)\n",
    "df_test = df_test.head(1000)\n",
    "\n",
    "# Call function to clean missing data\n",
    "\n",
    "test_pred1 = approach1_rem_msg(df_test)\n",
    "test_pred2 = approach2_impute_metric(df_test,\"mean\",['dropoff_longitude','pickup_hour'])\n",
    "test_pred3 = approach2_impute_metric(df_test,\"median\",['dropoff_longitude','pickup_hour'])\n",
    "test_pred4 = approach2_impute_metric(df_test,\"mode\",['dropoff_longitude','pickup_hour'])"
   ]
  },
  {
   "cell_type": "code",
   "execution_count": null,
   "metadata": {},
   "outputs": [],
   "source": [
    "from ipywidgets import *\n",
    "from IPython.display import display\n",
    "from IPython.display import clear_output\n",
    "\n",
    "# make 4 buttons\n",
    "button1 = Button(description=\"Delete rows with missing values\",\n",
    "           layout=Layout(width='50%', height='50px'))\n",
    "button2 = Button(description=\"Impute metric: Mean\",\n",
    "                layout=Layout(width='50%', height='50px'))\n",
    "button3 = Button(description=\"Impute metric: Median\",\n",
    "                layout=Layout(width='50%', height='50px'))\n",
    "button4 = Button(description=\"Impute metric: Mode\",\n",
    "                layout=Layout(width='50%', height='50px'))\n",
    "display(button1, button2, button3, button4)\n",
    "\n",
    "# define button calls\n",
    "\n",
    "def button1Clicked(b):\n",
    "    clear_output()\n",
    "    display(test_pred1)\n",
    "    \n",
    "def button2Clicked(b):\n",
    "    clear_output()\n",
    "    display(test_pred2)\n",
    "    \n",
    "def button3Clicked(b):\n",
    "    clear_output()\n",
    "    display(test_pred3)\n",
    "        \n",
    "def button4Clicked(b):\n",
    "    clear_output()\n",
    "    display(test_pred4)\n",
    "    \n",
    "# specify which functions to be called when buttons are clicked\n",
    "button1.on_click(button1Clicked)\n",
    "button2.on_click(button2Clicked)\n",
    "button3.on_click(button3Clicked)\n",
    "button4.on_click(button4Clicked)"
   ]
  },
  {
   "cell_type": "code",
   "execution_count": null,
   "metadata": {
    "collapsed": true
   },
   "outputs": [],
   "source": [
    "# Test code below - Do not run"
   ]
  },
  {
   "cell_type": "code",
   "execution_count": null,
   "metadata": {
    "collapsed": true
   },
   "outputs": [],
   "source": []
  },
  {
   "cell_type": "code",
   "execution_count": null,
   "metadata": {},
   "outputs": [],
   "source": [
    "from sklearn.preprocessing import LabelEncoder\n",
    "le=LabelEncoder()\n",
    "character_cols = ['Origin','UniqueCarrier','Dest']\n",
    "\n",
    "for col in character_cols:\n",
    "    le.fit(X[col].values)\n",
    "    X[col]=le.transform(X[col])"
   ]
  },
  {
   "cell_type": "code",
   "execution_count": null,
   "metadata": {},
   "outputs": [],
   "source": [
    "sum(Y==1)"
   ]
  },
  {
   "cell_type": "code",
   "execution_count": null,
   "metadata": {
    "scrolled": true
   },
   "outputs": [],
   "source": [
    "from sklearn.ensemble import RandomForestRegressor\n",
    "model = RandomForestRegressor(n_estimators = 10 , oob_score = True)\n",
    "model.fit(X,Y)"
   ]
  },
  {
   "cell_type": "code",
   "execution_count": null,
   "metadata": {
    "collapsed": true
   },
   "outputs": [],
   "source": [
    "model_features = pd.Series(model.feature_importances_,X.columns)\n",
    "model_features.sort_values\n",
    "model_features.plot(kind=\"barh\",figsize=(7,6))"
   ]
  },
  {
   "cell_type": "code",
   "execution_count": null,
   "metadata": {},
   "outputs": [],
   "source": [
    "model.feature_importances_"
   ]
  }
 ],
 "metadata": {
  "kernelspec": {
   "display_name": "Python 3",
   "language": "python",
   "name": "python3"
  },
  "language_info": {
   "codemirror_mode": {
    "name": "ipython",
    "version": 3
   },
   "file_extension": ".py",
   "mimetype": "text/x-python",
   "name": "python",
   "nbconvert_exporter": "python",
   "pygments_lexer": "ipython3",
   "version": "3.6.1"
  }
 },
 "nbformat": 4,
 "nbformat_minor": 2
}
